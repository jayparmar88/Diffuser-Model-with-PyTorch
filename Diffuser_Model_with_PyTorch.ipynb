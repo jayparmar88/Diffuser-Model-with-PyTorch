{
  "nbformat": 4,
  "nbformat_minor": 0,
  "metadata": {
    "colab": {
      "provenance": [],
      "gpuType": "T4"
    },
    "kernelspec": {
      "name": "python3",
      "display_name": "Python 3"
    },
    "language_info": {
      "name": "python"
    },
    "accelerator": "GPU",
    "widgets": {
      "application/vnd.jupyter.widget-state+json": {
        "1843f91ac8c342b3a38ea93ea8403be8": {
          "model_module": "@jupyter-widgets/controls",
          "model_name": "HBoxModel",
          "model_module_version": "1.5.0",
          "state": {
            "_dom_classes": [],
            "_model_module": "@jupyter-widgets/controls",
            "_model_module_version": "1.5.0",
            "_model_name": "HBoxModel",
            "_view_count": null,
            "_view_module": "@jupyter-widgets/controls",
            "_view_module_version": "1.5.0",
            "_view_name": "HBoxView",
            "box_style": "",
            "children": [
              "IPY_MODEL_0350205f922b4bb0bb86f90197d1e684",
              "IPY_MODEL_3ddc8b7f48ce4c978c5d47d101aec9b0",
              "IPY_MODEL_9a6335f916674e0a934259652260ad95"
            ],
            "layout": "IPY_MODEL_5ecb1468224b4e678584074c8373c2cb"
          }
        },
        "0350205f922b4bb0bb86f90197d1e684": {
          "model_module": "@jupyter-widgets/controls",
          "model_name": "HTMLModel",
          "model_module_version": "1.5.0",
          "state": {
            "_dom_classes": [],
            "_model_module": "@jupyter-widgets/controls",
            "_model_module_version": "1.5.0",
            "_model_name": "HTMLModel",
            "_view_count": null,
            "_view_module": "@jupyter-widgets/controls",
            "_view_module_version": "1.5.0",
            "_view_name": "HTMLView",
            "description": "",
            "description_tooltip": null,
            "layout": "IPY_MODEL_384975adcb3d4d5cb2dbd09e307cdf9f",
            "placeholder": "​",
            "style": "IPY_MODEL_94a45fe45cf04c6e9bac217d709a0f2d",
            "value": "100%"
          }
        },
        "3ddc8b7f48ce4c978c5d47d101aec9b0": {
          "model_module": "@jupyter-widgets/controls",
          "model_name": "FloatProgressModel",
          "model_module_version": "1.5.0",
          "state": {
            "_dom_classes": [],
            "_model_module": "@jupyter-widgets/controls",
            "_model_module_version": "1.5.0",
            "_model_name": "FloatProgressModel",
            "_view_count": null,
            "_view_module": "@jupyter-widgets/controls",
            "_view_module_version": "1.5.0",
            "_view_name": "ProgressView",
            "bar_style": "success",
            "description": "",
            "description_tooltip": null,
            "layout": "IPY_MODEL_c2287d2d2789423f99bad484f9440811",
            "max": 250,
            "min": 0,
            "orientation": "horizontal",
            "style": "IPY_MODEL_0cd65d70ff924619bc0b343c6107f531",
            "value": 250
          }
        },
        "9a6335f916674e0a934259652260ad95": {
          "model_module": "@jupyter-widgets/controls",
          "model_name": "HTMLModel",
          "model_module_version": "1.5.0",
          "state": {
            "_dom_classes": [],
            "_model_module": "@jupyter-widgets/controls",
            "_model_module_version": "1.5.0",
            "_model_name": "HTMLModel",
            "_view_count": null,
            "_view_module": "@jupyter-widgets/controls",
            "_view_module_version": "1.5.0",
            "_view_name": "HTMLView",
            "description": "",
            "description_tooltip": null,
            "layout": "IPY_MODEL_2e41c7ffac804b01b65ead9d6c8183b8",
            "placeholder": "​",
            "style": "IPY_MODEL_5c07e03e5e91488e80a9bedcb1f868b2",
            "value": " 250/250 [00:06&lt;00:00, 37.20it/s]"
          }
        },
        "5ecb1468224b4e678584074c8373c2cb": {
          "model_module": "@jupyter-widgets/base",
          "model_name": "LayoutModel",
          "model_module_version": "1.2.0",
          "state": {
            "_model_module": "@jupyter-widgets/base",
            "_model_module_version": "1.2.0",
            "_model_name": "LayoutModel",
            "_view_count": null,
            "_view_module": "@jupyter-widgets/base",
            "_view_module_version": "1.2.0",
            "_view_name": "LayoutView",
            "align_content": null,
            "align_items": null,
            "align_self": null,
            "border": null,
            "bottom": null,
            "display": null,
            "flex": null,
            "flex_flow": null,
            "grid_area": null,
            "grid_auto_columns": null,
            "grid_auto_flow": null,
            "grid_auto_rows": null,
            "grid_column": null,
            "grid_gap": null,
            "grid_row": null,
            "grid_template_areas": null,
            "grid_template_columns": null,
            "grid_template_rows": null,
            "height": null,
            "justify_content": null,
            "justify_items": null,
            "left": null,
            "margin": null,
            "max_height": null,
            "max_width": null,
            "min_height": null,
            "min_width": null,
            "object_fit": null,
            "object_position": null,
            "order": null,
            "overflow": null,
            "overflow_x": null,
            "overflow_y": null,
            "padding": null,
            "right": null,
            "top": null,
            "visibility": null,
            "width": null
          }
        },
        "384975adcb3d4d5cb2dbd09e307cdf9f": {
          "model_module": "@jupyter-widgets/base",
          "model_name": "LayoutModel",
          "model_module_version": "1.2.0",
          "state": {
            "_model_module": "@jupyter-widgets/base",
            "_model_module_version": "1.2.0",
            "_model_name": "LayoutModel",
            "_view_count": null,
            "_view_module": "@jupyter-widgets/base",
            "_view_module_version": "1.2.0",
            "_view_name": "LayoutView",
            "align_content": null,
            "align_items": null,
            "align_self": null,
            "border": null,
            "bottom": null,
            "display": null,
            "flex": null,
            "flex_flow": null,
            "grid_area": null,
            "grid_auto_columns": null,
            "grid_auto_flow": null,
            "grid_auto_rows": null,
            "grid_column": null,
            "grid_gap": null,
            "grid_row": null,
            "grid_template_areas": null,
            "grid_template_columns": null,
            "grid_template_rows": null,
            "height": null,
            "justify_content": null,
            "justify_items": null,
            "left": null,
            "margin": null,
            "max_height": null,
            "max_width": null,
            "min_height": null,
            "min_width": null,
            "object_fit": null,
            "object_position": null,
            "order": null,
            "overflow": null,
            "overflow_x": null,
            "overflow_y": null,
            "padding": null,
            "right": null,
            "top": null,
            "visibility": null,
            "width": null
          }
        },
        "94a45fe45cf04c6e9bac217d709a0f2d": {
          "model_module": "@jupyter-widgets/controls",
          "model_name": "DescriptionStyleModel",
          "model_module_version": "1.5.0",
          "state": {
            "_model_module": "@jupyter-widgets/controls",
            "_model_module_version": "1.5.0",
            "_model_name": "DescriptionStyleModel",
            "_view_count": null,
            "_view_module": "@jupyter-widgets/base",
            "_view_module_version": "1.2.0",
            "_view_name": "StyleView",
            "description_width": ""
          }
        },
        "c2287d2d2789423f99bad484f9440811": {
          "model_module": "@jupyter-widgets/base",
          "model_name": "LayoutModel",
          "model_module_version": "1.2.0",
          "state": {
            "_model_module": "@jupyter-widgets/base",
            "_model_module_version": "1.2.0",
            "_model_name": "LayoutModel",
            "_view_count": null,
            "_view_module": "@jupyter-widgets/base",
            "_view_module_version": "1.2.0",
            "_view_name": "LayoutView",
            "align_content": null,
            "align_items": null,
            "align_self": null,
            "border": null,
            "bottom": null,
            "display": null,
            "flex": null,
            "flex_flow": null,
            "grid_area": null,
            "grid_auto_columns": null,
            "grid_auto_flow": null,
            "grid_auto_rows": null,
            "grid_column": null,
            "grid_gap": null,
            "grid_row": null,
            "grid_template_areas": null,
            "grid_template_columns": null,
            "grid_template_rows": null,
            "height": null,
            "justify_content": null,
            "justify_items": null,
            "left": null,
            "margin": null,
            "max_height": null,
            "max_width": null,
            "min_height": null,
            "min_width": null,
            "object_fit": null,
            "object_position": null,
            "order": null,
            "overflow": null,
            "overflow_x": null,
            "overflow_y": null,
            "padding": null,
            "right": null,
            "top": null,
            "visibility": null,
            "width": null
          }
        },
        "0cd65d70ff924619bc0b343c6107f531": {
          "model_module": "@jupyter-widgets/controls",
          "model_name": "ProgressStyleModel",
          "model_module_version": "1.5.0",
          "state": {
            "_model_module": "@jupyter-widgets/controls",
            "_model_module_version": "1.5.0",
            "_model_name": "ProgressStyleModel",
            "_view_count": null,
            "_view_module": "@jupyter-widgets/base",
            "_view_module_version": "1.2.0",
            "_view_name": "StyleView",
            "bar_color": null,
            "description_width": ""
          }
        },
        "2e41c7ffac804b01b65ead9d6c8183b8": {
          "model_module": "@jupyter-widgets/base",
          "model_name": "LayoutModel",
          "model_module_version": "1.2.0",
          "state": {
            "_model_module": "@jupyter-widgets/base",
            "_model_module_version": "1.2.0",
            "_model_name": "LayoutModel",
            "_view_count": null,
            "_view_module": "@jupyter-widgets/base",
            "_view_module_version": "1.2.0",
            "_view_name": "LayoutView",
            "align_content": null,
            "align_items": null,
            "align_self": null,
            "border": null,
            "bottom": null,
            "display": null,
            "flex": null,
            "flex_flow": null,
            "grid_area": null,
            "grid_auto_columns": null,
            "grid_auto_flow": null,
            "grid_auto_rows": null,
            "grid_column": null,
            "grid_gap": null,
            "grid_row": null,
            "grid_template_areas": null,
            "grid_template_columns": null,
            "grid_template_rows": null,
            "height": null,
            "justify_content": null,
            "justify_items": null,
            "left": null,
            "margin": null,
            "max_height": null,
            "max_width": null,
            "min_height": null,
            "min_width": null,
            "object_fit": null,
            "object_position": null,
            "order": null,
            "overflow": null,
            "overflow_x": null,
            "overflow_y": null,
            "padding": null,
            "right": null,
            "top": null,
            "visibility": null,
            "width": null
          }
        },
        "5c07e03e5e91488e80a9bedcb1f868b2": {
          "model_module": "@jupyter-widgets/controls",
          "model_name": "DescriptionStyleModel",
          "model_module_version": "1.5.0",
          "state": {
            "_model_module": "@jupyter-widgets/controls",
            "_model_module_version": "1.5.0",
            "_model_name": "DescriptionStyleModel",
            "_view_count": null,
            "_view_module": "@jupyter-widgets/base",
            "_view_module_version": "1.2.0",
            "_view_name": "StyleView",
            "description_width": ""
          }
        }
      }
    }
  },
  "cells": [
    {
      "cell_type": "markdown",
      "source": [
        "## Import libraries"
      ],
      "metadata": {
        "id": "6EY5zmOotcak"
      }
    },
    {
      "cell_type": "code",
      "execution_count": 2,
      "metadata": {
        "id": "PwgbZ5XtuULO",
        "colab": {
          "base_uri": "https://localhost:8080/"
        },
        "outputId": "b546f210-8bad-4534-8323-aea0106ea223"
      },
      "outputs": [
        {
          "output_type": "stream",
          "name": "stdout",
          "text": [
            "Collecting torchmultimodal-nightly\n",
            "  Downloading torchmultimodal_nightly-2024.1.5-py39-none-any.whl (256 kB)\n",
            "\u001b[2K     \u001b[90m━━━━━━━━━━━━━━━━━━━━━━━━━━━━━━━━━━━━━━━━\u001b[0m \u001b[32m256.4/256.4 kB\u001b[0m \u001b[31m3.3 MB/s\u001b[0m eta \u001b[36m0:00:00\u001b[0m\n",
            "\u001b[?25hCollecting DALL-E==0.1 (from torchmultimodal-nightly)\n",
            "  Downloading DALL_E-0.1-py3-none-any.whl (6.0 kB)\n",
            "Collecting iopath (from torchmultimodal-nightly)\n",
            "  Downloading iopath-0.1.10.tar.gz (42 kB)\n",
            "\u001b[2K     \u001b[90m━━━━━━━━━━━━━━━━━━━━━━━━━━━━━━━━━━━━━━━━\u001b[0m \u001b[32m42.2/42.2 kB\u001b[0m \u001b[31m5.0 MB/s\u001b[0m eta \u001b[36m0:00:00\u001b[0m\n",
            "\u001b[?25h  Preparing metadata (setup.py) ... \u001b[?25l\u001b[?25hdone\n",
            "Requirement already satisfied: attrs==23.1.0 in /usr/local/lib/python3.10/dist-packages (from torchmultimodal-nightly) (23.1.0)\n",
            "Collecting ftfy (from torchmultimodal-nightly)\n",
            "  Downloading ftfy-6.1.3-py3-none-any.whl (53 kB)\n",
            "\u001b[2K     \u001b[90m━━━━━━━━━━━━━━━━━━━━━━━━━━━━━━━━━━━━━━━━\u001b[0m \u001b[32m53.4/53.4 kB\u001b[0m \u001b[31m6.1 MB/s\u001b[0m eta \u001b[36m0:00:00\u001b[0m\n",
            "\u001b[?25hRequirement already satisfied: regex in /usr/local/lib/python3.10/dist-packages (from torchmultimodal-nightly) (2023.6.3)\n",
            "Requirement already satisfied: Pillow in /usr/local/lib/python3.10/dist-packages (from DALL-E==0.1->torchmultimodal-nightly) (9.4.0)\n",
            "Collecting blobfile (from DALL-E==0.1->torchmultimodal-nightly)\n",
            "  Downloading blobfile-2.1.1-py3-none-any.whl (73 kB)\n",
            "\u001b[2K     \u001b[90m━━━━━━━━━━━━━━━━━━━━━━━━━━━━━━━━━━━━━━━━\u001b[0m \u001b[32m73.7/73.7 kB\u001b[0m \u001b[31m7.7 MB/s\u001b[0m eta \u001b[36m0:00:00\u001b[0m\n",
            "\u001b[?25hCollecting mypy (from DALL-E==0.1->torchmultimodal-nightly)\n",
            "  Downloading mypy-1.8.0-cp310-cp310-manylinux_2_17_x86_64.manylinux2014_x86_64.whl (12.5 MB)\n",
            "\u001b[2K     \u001b[90m━━━━━━━━━━━━━━━━━━━━━━━━━━━━━━━━━━━━━━━━\u001b[0m \u001b[32m12.5/12.5 MB\u001b[0m \u001b[31m38.1 MB/s\u001b[0m eta \u001b[36m0:00:00\u001b[0m\n",
            "\u001b[?25hRequirement already satisfied: numpy in /usr/local/lib/python3.10/dist-packages (from DALL-E==0.1->torchmultimodal-nightly) (1.23.5)\n",
            "Requirement already satisfied: pytest in /usr/local/lib/python3.10/dist-packages (from DALL-E==0.1->torchmultimodal-nightly) (7.4.3)\n",
            "Requirement already satisfied: requests in /usr/local/lib/python3.10/dist-packages (from DALL-E==0.1->torchmultimodal-nightly) (2.31.0)\n",
            "Requirement already satisfied: torch in /usr/local/lib/python3.10/dist-packages (from DALL-E==0.1->torchmultimodal-nightly) (2.1.0+cu121)\n",
            "Requirement already satisfied: torchvision in /usr/local/lib/python3.10/dist-packages (from DALL-E==0.1->torchmultimodal-nightly) (0.16.0+cu121)\n",
            "Requirement already satisfied: wcwidth<0.3.0,>=0.2.12 in /usr/local/lib/python3.10/dist-packages (from ftfy->torchmultimodal-nightly) (0.2.12)\n",
            "Requirement already satisfied: tqdm in /usr/local/lib/python3.10/dist-packages (from iopath->torchmultimodal-nightly) (4.66.1)\n",
            "Requirement already satisfied: typing_extensions in /usr/local/lib/python3.10/dist-packages (from iopath->torchmultimodal-nightly) (4.5.0)\n",
            "Collecting portalocker (from iopath->torchmultimodal-nightly)\n",
            "  Downloading portalocker-2.8.2-py3-none-any.whl (17 kB)\n",
            "Collecting pycryptodomex~=3.8 (from blobfile->DALL-E==0.1->torchmultimodal-nightly)\n",
            "  Downloading pycryptodomex-3.19.1-cp35-abi3-manylinux_2_17_x86_64.manylinux2014_x86_64.whl (2.1 MB)\n",
            "\u001b[2K     \u001b[90m━━━━━━━━━━━━━━━━━━━━━━━━━━━━━━━━━━━━━━━━\u001b[0m \u001b[32m2.1/2.1 MB\u001b[0m \u001b[31m65.1 MB/s\u001b[0m eta \u001b[36m0:00:00\u001b[0m\n",
            "\u001b[?25hRequirement already satisfied: urllib3<3,>=1.25.3 in /usr/local/lib/python3.10/dist-packages (from blobfile->DALL-E==0.1->torchmultimodal-nightly) (2.0.7)\n",
            "Requirement already satisfied: lxml~=4.9 in /usr/local/lib/python3.10/dist-packages (from blobfile->DALL-E==0.1->torchmultimodal-nightly) (4.9.4)\n",
            "Requirement already satisfied: filelock~=3.0 in /usr/local/lib/python3.10/dist-packages (from blobfile->DALL-E==0.1->torchmultimodal-nightly) (3.13.1)\n",
            "Collecting mypy-extensions>=1.0.0 (from mypy->DALL-E==0.1->torchmultimodal-nightly)\n",
            "  Downloading mypy_extensions-1.0.0-py3-none-any.whl (4.7 kB)\n",
            "Requirement already satisfied: tomli>=1.1.0 in /usr/local/lib/python3.10/dist-packages (from mypy->DALL-E==0.1->torchmultimodal-nightly) (2.0.1)\n",
            "Requirement already satisfied: iniconfig in /usr/local/lib/python3.10/dist-packages (from pytest->DALL-E==0.1->torchmultimodal-nightly) (2.0.0)\n",
            "Requirement already satisfied: packaging in /usr/local/lib/python3.10/dist-packages (from pytest->DALL-E==0.1->torchmultimodal-nightly) (23.2)\n",
            "Requirement already satisfied: pluggy<2.0,>=0.12 in /usr/local/lib/python3.10/dist-packages (from pytest->DALL-E==0.1->torchmultimodal-nightly) (1.3.0)\n",
            "Requirement already satisfied: exceptiongroup>=1.0.0rc8 in /usr/local/lib/python3.10/dist-packages (from pytest->DALL-E==0.1->torchmultimodal-nightly) (1.2.0)\n",
            "Requirement already satisfied: charset-normalizer<4,>=2 in /usr/local/lib/python3.10/dist-packages (from requests->DALL-E==0.1->torchmultimodal-nightly) (3.3.2)\n",
            "Requirement already satisfied: idna<4,>=2.5 in /usr/local/lib/python3.10/dist-packages (from requests->DALL-E==0.1->torchmultimodal-nightly) (3.6)\n",
            "Requirement already satisfied: certifi>=2017.4.17 in /usr/local/lib/python3.10/dist-packages (from requests->DALL-E==0.1->torchmultimodal-nightly) (2023.11.17)\n",
            "Requirement already satisfied: sympy in /usr/local/lib/python3.10/dist-packages (from torch->DALL-E==0.1->torchmultimodal-nightly) (1.12)\n",
            "Requirement already satisfied: networkx in /usr/local/lib/python3.10/dist-packages (from torch->DALL-E==0.1->torchmultimodal-nightly) (3.2.1)\n",
            "Requirement already satisfied: jinja2 in /usr/local/lib/python3.10/dist-packages (from torch->DALL-E==0.1->torchmultimodal-nightly) (3.1.2)\n",
            "Requirement already satisfied: fsspec in /usr/local/lib/python3.10/dist-packages (from torch->DALL-E==0.1->torchmultimodal-nightly) (2023.6.0)\n",
            "Requirement already satisfied: triton==2.1.0 in /usr/local/lib/python3.10/dist-packages (from torch->DALL-E==0.1->torchmultimodal-nightly) (2.1.0)\n",
            "Requirement already satisfied: MarkupSafe>=2.0 in /usr/local/lib/python3.10/dist-packages (from jinja2->torch->DALL-E==0.1->torchmultimodal-nightly) (2.1.3)\n",
            "Requirement already satisfied: mpmath>=0.19 in /usr/local/lib/python3.10/dist-packages (from sympy->torch->DALL-E==0.1->torchmultimodal-nightly) (1.3.0)\n",
            "Building wheels for collected packages: iopath\n",
            "  Building wheel for iopath (setup.py) ... \u001b[?25l\u001b[?25hdone\n",
            "  Created wheel for iopath: filename=iopath-0.1.10-py3-none-any.whl size=31532 sha256=a331cd26e1ab464a57ada068e8031b102e740e0b4f68d128b19e57645d20faab\n",
            "  Stored in directory: /root/.cache/pip/wheels/9a/a3/b6/ac0fcd1b4ed5cfeb3db92e6a0e476cfd48ed0df92b91080c1d\n",
            "Successfully built iopath\n",
            "Installing collected packages: pycryptodomex, portalocker, mypy-extensions, ftfy, mypy, iopath, blobfile, DALL-E, torchmultimodal-nightly\n",
            "Successfully installed DALL-E-0.1 blobfile-2.1.1 ftfy-6.1.3 iopath-0.1.10 mypy-1.8.0 mypy-extensions-1.0.0 portalocker-2.8.2 pycryptodomex-3.19.1 torchmultimodal-nightly-2024.1.5\n"
          ]
        }
      ],
      "source": [
        "!pip install torchmultimodal-nightly"
      ]
    },
    {
      "cell_type": "code",
      "source": [
        "import torch\n",
        "import torchvision\n",
        "import torchvision.transforms.functional as F\n",
        "\n",
        "from torch import nn\n",
        "from tqdm import tqdm\n",
        "from torchmultimodal.diffusion_labs.modules.adapters.cfguidance import CFGuidance\n",
        "from torchmultimodal.diffusion_labs.modules.losses.diffusion_hybrid_loss import DiffusionHybridLoss\n",
        "from torchmultimodal.diffusion_labs.samplers.ddpm import DDPModule\n",
        "from torchmultimodal.diffusion_labs.predictors.noise_predictor import NoisePredictor\n",
        "from torchmultimodal.diffusion_labs.schedules.discrete_gaussian_schedule import linear_beta_schedule, DiscreteGaussianSchedule\n",
        "from torchmultimodal.diffusion_labs.transforms.diffusion_transform import RandomDiffusionSteps\n",
        "from torchmultimodal.diffusion_labs.utils.common import DiffusionOutput"
      ],
      "metadata": {
        "id": "G-E-zNlcTAWa"
      },
      "execution_count": 3,
      "outputs": []
    },
    {
      "cell_type": "markdown",
      "source": [
        "## Schedule"
      ],
      "metadata": {
        "id": "63LojoQat2wP"
      }
    },
    {
      "cell_type": "code",
      "source": [
        "# Define Diffusion Schedule\n",
        "\n",
        "schedule = DiscreteGaussianSchedule(linear_beta_schedule(1000))"
      ],
      "metadata": {
        "id": "SKmRLEAwTMD8"
      },
      "execution_count": 4,
      "outputs": []
    },
    {
      "cell_type": "markdown",
      "source": [
        "## Predictor"
      ],
      "metadata": {
        "id": "hen0uUXRt-yT"
      }
    },
    {
      "cell_type": "code",
      "source": [
        "# Define Prediction Target\n",
        "\n",
        "predictor = NoisePredictor(schedule, lambda x: torch.clamp(x, -1, 1))"
      ],
      "metadata": {
        "id": "btTCN-ElTQYv"
      },
      "execution_count": 5,
      "outputs": []
    },
    {
      "cell_type": "markdown",
      "source": [
        "## U-Net"
      ],
      "metadata": {
        "id": "qhq2IzeduB9x"
      }
    },
    {
      "cell_type": "code",
      "source": [
        "# Down scaling input blocks for unet\n",
        "class DownBlock(nn.Module):\n",
        "    def __init__(self, in_channels, out_channels, cond_channels):\n",
        "        super().__init__()\n",
        "        self.block = nn.Sequential(\n",
        "            nn.Conv2d(in_channels + cond_channels, out_channels, kernel_size=3, padding=1),\n",
        "            nn.ReLU(),\n",
        "            nn.Conv2d(out_channels, out_channels, kernel_size=3, padding=1),\n",
        "            nn.ReLU(),\n",
        "        )\n",
        "\n",
        "        self.pooling = nn.AvgPool2d(kernel_size=2, stride=2)\n",
        "\n",
        "    def forward(self, x, c):\n",
        "        _, _, w, h = x.size()\n",
        "        c = c.expand(-1, -1, w, h)              # Shape conditional input to match image\n",
        "        x = self.block(torch.cat([x, c], 1))    # Convolutions over image + condition\n",
        "        x_small = self.pooling(x)               # Downsample output for next block\n",
        "        return x, x_small\n",
        "\n",
        "# Upscaling blocks on unet\n",
        "class UpBlock(nn.Module):\n",
        "    def __init__(self, inp, out):\n",
        "        super().__init__()\n",
        "        self.block = nn.Sequential(\n",
        "            nn.Conv2d(2*inp, out, kernel_size=3, padding=1),\n",
        "            nn.ReLU(),\n",
        "            nn.Conv2d(out, out, kernel_size=3, padding=1),\n",
        "            nn.ReLU(),\n",
        "        )\n",
        "        self.upsample = nn.Upsample(scale_factor=2)\n",
        "\n",
        "    def forward(self, x, x_small):\n",
        "        x_big = self.upsample(x_small)          # Upscale input back towards original size\n",
        "        x = torch.cat((x_big, x), dim=1)        # Join previous block with accross block\n",
        "        x = self.block(x)                       # Convolutions over image\n",
        "        return x\n",
        "\n",
        "class UNet(nn.Module):\n",
        "    def __init__(self, time_size=32, digit_size=32, steps=1000):\n",
        "        # Define UNet\n",
        "        super().__init__()\n",
        "        cond_size = time_size + digit_size\n",
        "        self.conv = nn.Conv2d(1, 128, kernel_size=3, padding=1)\n",
        "        self.down = nn.ModuleList([DownBlock(128, 256, cond_size), DownBlock(256, 512, cond_size)])\n",
        "        self.bottleneck = DownBlock(512, 512, cond_size)\n",
        "        self.up = nn.ModuleList([UpBlock(512, 256), UpBlock(256, 128)])\n",
        "\n",
        "        self.time_projection = nn.Embedding(steps, time_size)\n",
        "        self.prediction = nn.Conv2d(128, 1, kernel_size=3, padding=1)\n",
        "        self.variance = nn.Conv2d(128, 1, kernel_size=3, padding=1)\n",
        "\n",
        "    def forward(self, x, t, conditional_inputs):\n",
        "        # Define forward\n",
        "        b, c, h, w = x.shape\n",
        "        timestep = self.time_projection(t).view(b, -1, 1, 1)\n",
        "        condition = conditional_inputs[\"context\"].view(b, -1, 1, 1)\n",
        "        condition = torch.cat([timestep, condition], dim = 1)\n",
        "\n",
        "        x = self.conv(x)\n",
        "        outs = []\n",
        "        for block in self.down:\n",
        "            out, x = block(x, condition)\n",
        "            outs.append(out)\n",
        "        x, _ = self.bottleneck(x, condition)\n",
        "\n",
        "        for block in self.up:\n",
        "            x = block(outs.pop(), x)\n",
        "        v = self.variance(x)\n",
        "        p = self.prediction(x)\n",
        "        return DiffusionOutput(p, v)"
      ],
      "metadata": {
        "id": "DcW_z9t9TSW8"
      },
      "execution_count": 6,
      "outputs": []
    },
    {
      "cell_type": "markdown",
      "source": [
        "## Diffusion Model"
      ],
      "metadata": {
        "id": "9b093q4nuR3V"
      }
    },
    {
      "cell_type": "code",
      "source": [
        "unet = UNet(time_size=32, digit_size=32)\n",
        "unet = CFGuidance(unet, {\"context\": 32}, guidance=2.0)\n",
        "# Add support for classifier free guidance"
      ],
      "metadata": {
        "id": "MAQTyO2zTVHt"
      },
      "execution_count": 7,
      "outputs": []
    },
    {
      "cell_type": "code",
      "source": [
        "# Define evalution\n",
        "eval_steps = torch.linspace(0, 999, 250, dtype=torch.long)\n",
        "model = DDPModule(unet, schedule, predictor, eval_steps)"
      ],
      "metadata": {
        "id": "4H9ziuKYTXDf"
      },
      "execution_count": 8,
      "outputs": []
    },
    {
      "cell_type": "code",
      "source": [
        "# Define conditional embeddings\n",
        "encoder = nn.Embedding(10, 32)"
      ],
      "metadata": {
        "id": "l8EoPDdsTYmZ"
      },
      "execution_count": 9,
      "outputs": []
    },
    {
      "cell_type": "markdown",
      "source": [
        "## Data"
      ],
      "metadata": {
        "id": "rVHNkofpuYrc"
      }
    },
    {
      "cell_type": "code",
      "source": [
        "from torchvision.transforms import Compose, Resize, ToTensor, Lambda\n",
        "\n",
        "diffusion_transform = RandomDiffusionSteps(schedule, batched=False)\n",
        "transform = Compose([Resize(32),\n",
        "                      ToTensor(),\n",
        "                      Lambda(lambda x: 2*x - 1),\n",
        "                      Lambda(lambda x: diffusion_transform({\"x\":x}))])"
      ],
      "metadata": {
        "id": "oh6Uh2hNTZ-v"
      },
      "execution_count": 10,
      "outputs": []
    },
    {
      "cell_type": "code",
      "source": [
        "from torchvision.datasets import FashionMNIST\n",
        "from torch.utils.data import DataLoader\n",
        "\n",
        "train_dataset = FashionMNIST(\"fashion_mnist\", train=True, download=True, transform=transform)\n",
        "train_dataloader = DataLoader(train_dataset, batch_size=192, shuffle=True, num_workers=2, pin_memory=True)"
      ],
      "metadata": {
        "colab": {
          "base_uri": "https://localhost:8080/"
        },
        "id": "E0pb-u6YTbcD",
        "outputId": "d9a64c64-c53c-4237-8789-e22d3b64d98d"
      },
      "execution_count": 11,
      "outputs": [
        {
          "output_type": "stream",
          "name": "stdout",
          "text": [
            "Downloading http://fashion-mnist.s3-website.eu-central-1.amazonaws.com/train-images-idx3-ubyte.gz\n",
            "Downloading http://fashion-mnist.s3-website.eu-central-1.amazonaws.com/train-images-idx3-ubyte.gz to fashion_mnist/FashionMNIST/raw/train-images-idx3-ubyte.gz\n"
          ]
        },
        {
          "output_type": "stream",
          "name": "stderr",
          "text": [
            "100%|██████████| 26421880/26421880 [00:02<00:00, 11263306.60it/s]\n"
          ]
        },
        {
          "output_type": "stream",
          "name": "stdout",
          "text": [
            "Extracting fashion_mnist/FashionMNIST/raw/train-images-idx3-ubyte.gz to fashion_mnist/FashionMNIST/raw\n",
            "\n",
            "Downloading http://fashion-mnist.s3-website.eu-central-1.amazonaws.com/train-labels-idx1-ubyte.gz\n",
            "Downloading http://fashion-mnist.s3-website.eu-central-1.amazonaws.com/train-labels-idx1-ubyte.gz to fashion_mnist/FashionMNIST/raw/train-labels-idx1-ubyte.gz\n"
          ]
        },
        {
          "output_type": "stream",
          "name": "stderr",
          "text": [
            "100%|██████████| 29515/29515 [00:00<00:00, 198311.69it/s]\n"
          ]
        },
        {
          "output_type": "stream",
          "name": "stdout",
          "text": [
            "Extracting fashion_mnist/FashionMNIST/raw/train-labels-idx1-ubyte.gz to fashion_mnist/FashionMNIST/raw\n",
            "\n",
            "Downloading http://fashion-mnist.s3-website.eu-central-1.amazonaws.com/t10k-images-idx3-ubyte.gz\n",
            "Downloading http://fashion-mnist.s3-website.eu-central-1.amazonaws.com/t10k-images-idx3-ubyte.gz to fashion_mnist/FashionMNIST/raw/t10k-images-idx3-ubyte.gz\n"
          ]
        },
        {
          "output_type": "stream",
          "name": "stderr",
          "text": [
            "100%|██████████| 4422102/4422102 [00:01<00:00, 3741508.19it/s]\n"
          ]
        },
        {
          "output_type": "stream",
          "name": "stdout",
          "text": [
            "Extracting fashion_mnist/FashionMNIST/raw/t10k-images-idx3-ubyte.gz to fashion_mnist/FashionMNIST/raw\n",
            "\n",
            "Downloading http://fashion-mnist.s3-website.eu-central-1.amazonaws.com/t10k-labels-idx1-ubyte.gz\n",
            "Downloading http://fashion-mnist.s3-website.eu-central-1.amazonaws.com/t10k-labels-idx1-ubyte.gz to fashion_mnist/FashionMNIST/raw/t10k-labels-idx1-ubyte.gz\n"
          ]
        },
        {
          "output_type": "stream",
          "name": "stderr",
          "text": [
            "100%|██████████| 5148/5148 [00:00<00:00, 5862687.21it/s]"
          ]
        },
        {
          "output_type": "stream",
          "name": "stdout",
          "text": [
            "Extracting fashion_mnist/FashionMNIST/raw/t10k-labels-idx1-ubyte.gz to fashion_mnist/FashionMNIST/raw\n",
            "\n"
          ]
        },
        {
          "output_type": "stream",
          "name": "stderr",
          "text": [
            "\n"
          ]
        }
      ]
    },
    {
      "cell_type": "markdown",
      "source": [
        "## Train"
      ],
      "metadata": {
        "id": "hVC_gcF_ubLd"
      }
    },
    {
      "cell_type": "code",
      "source": [
        "epochs = 10\n",
        "\n",
        "device = torch.device(\"cuda\" if torch.cuda.is_available() else \"cpu\")\n",
        "encoder.to(device)\n",
        "model.to(device)\n",
        "\n",
        "# Apply optimizer to diffusion model and encoder for joint training\n",
        "optimizer = torch.optim.AdamW(\n",
        "    [{\"params\": encoder.parameters()}, {\"params\": model.parameters()}], lr=0.0001\n",
        ")\n",
        "# Define loss\n",
        "h_loss = DiffusionHybridLoss(schedule)\n",
        "\n",
        "encoder.train()\n",
        "model.train()\n",
        "for e in range(epochs):\n",
        "\tfor sample in (pbar := tqdm(train_dataloader)):\n",
        "\t\tx, c = sample\n",
        "\t\tx0, xt, noise, t, c = x[\"x\"].to(device), x[\"xt\"].to(device), x[\"noise\"].to(device), x[\"t\"].to(device), c.to(device)\n",
        "\t\toptimizer.zero_grad()\n",
        "\n",
        "\t\t# Compute loss\n",
        "\t\tembedding = encoder(c)\n",
        "\t\tout = model(xt, t, {\"context\": embedding})\n",
        "\t\tloss = h_loss(out.prediction, noise, out.mean, out.log_variance, x0, xt, t)\n",
        "\n",
        "\t\tloss.backward()\n",
        "\t\toptimizer.step()\n",
        "\n",
        "\t\tpbar.set_description(f'{e+1}| Loss: {loss.item()}')"
      ],
      "metadata": {
        "colab": {
          "base_uri": "https://localhost:8080/"
        },
        "id": "nlPu5vCuTdOq",
        "outputId": "f60dc331-3236-41cf-878e-985aa24d3af5"
      },
      "execution_count": 12,
      "outputs": [
        {
          "output_type": "stream",
          "name": "stderr",
          "text": [
            "1| Loss: 0.07015200704336166: 100%|██████████| 313/313 [02:35<00:00,  2.01it/s]\n",
            "2| Loss: 0.0422837920486927: 100%|██████████| 313/313 [02:37<00:00,  1.98it/s]\n",
            "3| Loss: 0.05913076177239418: 100%|██████████| 313/313 [02:37<00:00,  1.99it/s]\n",
            "4| Loss: 0.043137483298778534: 100%|██████████| 313/313 [02:37<00:00,  1.99it/s]\n",
            "5| Loss: 0.04217291250824928: 100%|██████████| 313/313 [02:37<00:00,  1.99it/s]\n",
            "6| Loss: 0.0422394797205925: 100%|██████████| 313/313 [02:36<00:00,  1.99it/s]\n",
            "7| Loss: 0.030505754053592682: 100%|██████████| 313/313 [02:36<00:00,  1.99it/s]\n",
            "8| Loss: 0.035358283668756485: 100%|██████████| 313/313 [02:37<00:00,  1.99it/s]\n",
            "9| Loss: 0.03364697843790054: 100%|██████████| 313/313 [02:36<00:00,  1.99it/s]\n",
            "10| Loss: 0.03765776380896568: 100%|██████████| 313/313 [02:36<00:00,  1.99it/s]\n"
          ]
        }
      ]
    },
    {
      "cell_type": "markdown",
      "source": [
        "## Generate"
      ],
      "metadata": {
        "id": "Y5SWbXuguett"
      }
    },
    {
      "cell_type": "code",
      "source": [
        "def fashion_encoder(name, num=1):\n",
        "    fashion_dict = {\"t-shirt\": 0, \"pants\": 1, \"sweater\": 2, \"dress\": 3, \"coat\": 4,\n",
        "                    \"sandal\": 5, \"shirt\": 6, \"sneaker\": 7, \"purse\": 8, \"boot\": 9}\n",
        "    idx = torch.as_tensor([fashion_dict[name] for _ in range(num)]).to(device)\n",
        "\n",
        "    encoder.eval()\n",
        "    with torch.no_grad():\n",
        "        embed = encoder(idx)\n",
        "    return embed"
      ],
      "metadata": {
        "id": "PTfD5ZrvU8Pm"
      },
      "execution_count": 13,
      "outputs": []
    },
    {
      "cell_type": "code",
      "source": [
        "model.eval()\n",
        "\n",
        "c = fashion_encoder(\"t-shirt\", 9)\n",
        "noise = torch.randn(size=(9,1,32,32)).to(device)\n",
        "\n",
        "with torch.no_grad():\n",
        "    imgs = model(noise, conditional_inputs={\"context\": c})\n",
        "\n",
        "img_grid = torchvision.utils.make_grid(imgs, 3)\n",
        "img = F.to_pil_image((img_grid + 1) / 2)\n",
        "img.resize((288, 288))"
      ],
      "metadata": {
        "colab": {
          "base_uri": "https://localhost:8080/",
          "height": 337,
          "referenced_widgets": [
            "1843f91ac8c342b3a38ea93ea8403be8",
            "0350205f922b4bb0bb86f90197d1e684",
            "3ddc8b7f48ce4c978c5d47d101aec9b0",
            "9a6335f916674e0a934259652260ad95",
            "5ecb1468224b4e678584074c8373c2cb",
            "384975adcb3d4d5cb2dbd09e307cdf9f",
            "94a45fe45cf04c6e9bac217d709a0f2d",
            "c2287d2d2789423f99bad484f9440811",
            "0cd65d70ff924619bc0b343c6107f531",
            "2e41c7ffac804b01b65ead9d6c8183b8",
            "5c07e03e5e91488e80a9bedcb1f868b2"
          ]
        },
        "id": "3M0_D-rAU_JU",
        "outputId": "6980ffac-4d8e-4b62-f95d-31a1252b49cc"
      },
      "execution_count": 19,
      "outputs": [
        {
          "output_type": "display_data",
          "data": {
            "text/plain": [
              "  0%|          | 0/250 [00:00<?, ?it/s]"
            ],
            "application/vnd.jupyter.widget-view+json": {
              "version_major": 2,
              "version_minor": 0,
              "model_id": "1843f91ac8c342b3a38ea93ea8403be8"
            }
          },
          "metadata": {}
        },
        {
          "output_type": "execute_result",
          "data": {
            "text/plain": [
              "<PIL.Image.Image image mode=RGB size=288x288>"
            ],
            "image/png": "[encoded data removed]"
          },
          "metadata": {},
          "execution_count": 19
        }
      ]
    }
  ]
}